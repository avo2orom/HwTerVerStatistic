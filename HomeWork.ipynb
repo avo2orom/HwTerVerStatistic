{
 "cells": [
  {
   "cell_type": "code",
   "execution_count": 10,
   "id": "93a7e71f",
   "metadata": {},
   "outputs": [],
   "source": [
    "import warnings\n",
    "import numpy as np\n",
    "import pandas as pd\n",
    "from scipy import stats\n",
    "import math\n",
    "import statistics\n",
    "\n",
    "warnings.filterwarnings('ignore')"
   ]
  },
  {
   "cell_type": "markdown",
   "id": "b0e04182",
   "metadata": {},
   "source": [
    "Задача 1. Случайная непрерывная величина A имеет равномерное распределение на\n",
    "промежутке (200, 800].\n",
    "Найдите ее среднее значение и дисперсию."
   ]
  },
  {
   "cell_type": "code",
   "execution_count": 16,
   "id": "7b94592a",
   "metadata": {},
   "outputs": [
    {
     "name": "stdout",
     "output_type": "stream",
     "text": [
      "\"Среднее значение = \" 500.0\n",
      "\"Дисперсия = \" 50.166666666666664\n"
     ]
    }
   ],
   "source": [
    "a = 200;\n",
    "b = 800\n",
    "M = (a + b)/2\n",
    "print(f'\"Среднее значение = \" {M}')\n",
    "D = ((b-a)^2)/12\n",
    "print(f'\"Дисперсия = \" {D}')"
   ]
  },
  {
   "cell_type": "markdown",
   "id": "220c1c7d",
   "metadata": {},
   "source": [
    "Задача 2. О случайной непрерывной равномерно распределенной величине B известно, что ее\n",
    "дисперсия равна 0.2.\n",
    "Можно ли найти правую границу величины B и ее среднее значение зная, что левая\n",
    "граница равна 0.5?\n",
    "Если да, найдите ее."
   ]
  },
  {
   "cell_type": "markdown",
   "id": "f5e82ce1",
   "metadata": {},
   "source": [
    "D = 0.2\n",
    "s = sqrt(D)\n",
    "D = (a + b)^2 / 12 = 0,2\n",
    "a = 0.5"
   ]
  },
  {
   "cell_type": "code",
   "execution_count": 17,
   "id": "b673e14c",
   "metadata": {},
   "outputs": [
    {
     "name": "stdout",
     "output_type": "stream",
     "text": [
      "Правая граница равна 2.049193338482967\n"
     ]
    }
   ],
   "source": [
    "a = 0.5\n",
    "c = np.sqrt(2.4)\n",
    "b = c + a\n",
    "print(f'Правая граница равна {b}')"
   ]
  },
  {
   "cell_type": "markdown",
   "id": "887f5d5c",
   "metadata": {},
   "source": [
    "Среднее значение M(X) = a + b /2"
   ]
  },
  {
   "cell_type": "code",
   "execution_count": 19,
   "id": "4931a84c",
   "metadata": {},
   "outputs": [
    {
     "name": "stdout",
     "output_type": "stream",
     "text": [
      "1.2745966692414834\n"
     ]
    }
   ],
   "source": [
    "M = (a + b) /2\n",
    "print(M)"
   ]
  },
  {
   "cell_type": "markdown",
   "id": "dd5f3026",
   "metadata": {},
   "source": [
    "Задача 3. Непрерывная случайная величина X распределена нормально и задана плотностью\n",
    "распределения\n",
    "f(x) = (1 / (4 * sqrt(2pi))) * exp((-(x+2)**2) / 32)\n",
    "Найдите:\n",
    "а). M(X)\n",
    "б). D(X)\n",
    "в). std(X) (среднее квадратичное отклонение)"
   ]
  },
  {
   "cell_type": "markdown",
   "id": "6b2cbb3b",
   "metadata": {},
   "source": [
    "M(X) = -2\n",
    "D(X) = s^2 = 16\n",
    "s = 4\n"
   ]
  },
  {
   "cell_type": "markdown",
   "id": "9ccbc0c4",
   "metadata": {},
   "source": [
    "Рост взрослого населения города X имеет нормальное распределение, причем, средний рост равен 174 см, а среднее квадратическое отклонение равно 8 см. посчитайте, какова вероятность того, что случайным образом выбранный взрослый человек имеет рост:\n",
    "1. больше 182 см?\n",
    "2. больше 190 см?\n",
    "3. от 166 см до 190 см?\n",
    "4. от 166 см до 182 см?\n",
    "5. от 158 см до 190 см?\n",
    "6. не выше 150 см или не ниже 190 см?\n",
    "7. не выше 150 см или не ниже 198 см?\n",
    "8. ниже 166 см?\n",
    "\n",
    "Задачу можно решить двумя способами: без использования сторонних библиотек (numpy, scipy, pandas и пр.), а затем проверить себя с помощью встроенных функций.\n",
    "\n",
    "Среднее арифметическое = 174\n",
    "сигма = 8"
   ]
  },
  {
   "cell_type": "markdown",
   "id": "b2460f8a",
   "metadata": {},
   "source": [
    "1. больше 182 см?\n",
    "P(X) 182 = 1-P(x<182)"
   ]
  },
  {
   "cell_type": "code",
   "execution_count": 21,
   "id": "ca7feb7f",
   "metadata": {},
   "outputs": [
    {
     "name": "stdout",
     "output_type": "stream",
     "text": [
      "1.0\n"
     ]
    }
   ],
   "source": [
    "Z = (182 - 174)/8\n",
    "print(Z)"
   ]
  },
  {
   "cell_type": "code",
   "execution_count": 22,
   "id": "69c61dc0",
   "metadata": {},
   "outputs": [
    {
     "name": "stdout",
     "output_type": "stream",
     "text": [
      "0.15866000000000002\n"
     ]
    }
   ],
   "source": [
    "P = (1-0.84134)\n",
    "print(P)"
   ]
  },
  {
   "cell_type": "markdown",
   "id": "5616f3ae",
   "metadata": {},
   "source": [
    "Ответ: вероятность = 0,16 или 16%"
   ]
  },
  {
   "cell_type": "markdown",
   "id": "85d963fb",
   "metadata": {},
   "source": [
    "2. больше 190 см?\n",
    "P(X) 190 = 1-P(x<190)"
   ]
  },
  {
   "cell_type": "code",
   "execution_count": 23,
   "id": "c25e0c56",
   "metadata": {},
   "outputs": [
    {
     "name": "stdout",
     "output_type": "stream",
     "text": [
      "2.0\n"
     ]
    }
   ],
   "source": [
    "Z = (190 - 174)/8\n",
    "print(Z)"
   ]
  },
  {
   "cell_type": "code",
   "execution_count": 24,
   "id": "f7c2f089",
   "metadata": {},
   "outputs": [
    {
     "name": "stdout",
     "output_type": "stream",
     "text": [
      "0.022750000000000048\n"
     ]
    }
   ],
   "source": [
    "P = (1-0.97725 )\n",
    "print(P)"
   ]
  },
  {
   "cell_type": "markdown",
   "id": "a6b39c88",
   "metadata": {},
   "source": [
    "Ответ: вероятность = 0,23 или 23%"
   ]
  },
  {
   "cell_type": "markdown",
   "id": "7a5c878b",
   "metadata": {},
   "source": [
    "3. от 166 см до 190 см?\n",
    "P(X) 166 = P(x<166)\n",
    "Р(X) 190 = 0,23 (рассчитали в примере 2)"
   ]
  },
  {
   "cell_type": "code",
   "execution_count": 28,
   "id": "b400865b",
   "metadata": {},
   "outputs": [
    {
     "name": "stdout",
     "output_type": "stream",
     "text": [
      "-1.0\n"
     ]
    }
   ],
   "source": [
    "Z = (166 - 174)/8\n",
    "print(Z)"
   ]
  },
  {
   "cell_type": "code",
   "execution_count": 29,
   "id": "92f967bc",
   "metadata": {},
   "outputs": [
    {
     "name": "stdout",
     "output_type": "stream",
     "text": [
      "0.15866\n"
     ]
    }
   ],
   "source": [
    "P = (0.15866)\n",
    "print(P)"
   ]
  },
  {
   "cell_type": "markdown",
   "id": "027c7187",
   "metadata": {},
   "source": [
    "P (общая) = 0.16-0.23"
   ]
  },
  {
   "cell_type": "code",
   "execution_count": 37,
   "id": "873fa5d0",
   "metadata": {},
   "outputs": [
    {
     "name": "stdout",
     "output_type": "stream",
     "text": [
      "0.07\n"
     ]
    }
   ],
   "source": [
    "P = 0.23-0.16\n",
    "print(P)"
   ]
  },
  {
   "cell_type": "markdown",
   "id": "0fbdcaf8",
   "metadata": {},
   "source": [
    "4. от 166 см до 182 см?\n",
    "P(X) 166 = 0.15866\n",
    "Р(X) 182 = 0.15866000000000002\n",
    "P (общая) = 0.16-0.15866000000000002"
   ]
  },
  {
   "cell_type": "code",
   "execution_count": 36,
   "id": "c387800b",
   "metadata": {},
   "outputs": [
    {
     "name": "stdout",
     "output_type": "stream",
     "text": [
      "2.7755575615628914e-17\n"
     ]
    }
   ],
   "source": [
    "P = 0.15866000000000002-0.15866\n",
    "print(P)"
   ]
  },
  {
   "cell_type": "markdown",
   "id": "97007982",
   "metadata": {},
   "source": [
    "5. от 158 см до 190 см?\n",
    "P(X) 158 = 0.02275\n",
    "P(X) 190 = 0.022750000000000048"
   ]
  },
  {
   "cell_type": "code",
   "execution_count": 44,
   "id": "e9396d8f",
   "metadata": {},
   "outputs": [
    {
     "name": "stdout",
     "output_type": "stream",
     "text": [
      "-2.0\n"
     ]
    }
   ],
   "source": [
    "Z = (158 - 174)/8\n",
    "print(Z)"
   ]
  },
  {
   "cell_type": "code",
   "execution_count": 42,
   "id": "b5ac35b3",
   "metadata": {},
   "outputs": [
    {
     "name": "stdout",
     "output_type": "stream",
     "text": [
      "0.02275\n"
     ]
    }
   ],
   "source": [
    "P = (0.02275)\n",
    "print(P)"
   ]
  },
  {
   "cell_type": "code",
   "execution_count": 45,
   "id": "bae49e5a",
   "metadata": {},
   "outputs": [
    {
     "name": "stdout",
     "output_type": "stream",
     "text": [
      "4.85722573273506e-17\n"
     ]
    }
   ],
   "source": [
    "P = 0.022750000000000048-0.02275\n",
    "print(P)"
   ]
  },
  {
   "cell_type": "markdown",
   "id": "eaf11491",
   "metadata": {},
   "source": [
    "6. не выше 150 см или не ниже 190 см?\n",
    "P(X) 150 = 0.00135\n",
    "P(X) 190 = 0.022750000000000048"
   ]
  },
  {
   "cell_type": "code",
   "execution_count": 46,
   "id": "da6de3f5",
   "metadata": {},
   "outputs": [
    {
     "name": "stdout",
     "output_type": "stream",
     "text": [
      "-3.0\n"
     ]
    }
   ],
   "source": [
    "Z = (150 - 174)/8\n",
    "print(Z)"
   ]
  },
  {
   "cell_type": "code",
   "execution_count": 47,
   "id": "5398a2a0",
   "metadata": {},
   "outputs": [
    {
     "name": "stdout",
     "output_type": "stream",
     "text": [
      "0.00135\n"
     ]
    }
   ],
   "source": [
    "P = (0.00135 )\n",
    "print(P)"
   ]
  },
  {
   "cell_type": "code",
   "execution_count": 49,
   "id": "2b9069da",
   "metadata": {},
   "outputs": [
    {
     "name": "stdout",
     "output_type": "stream",
     "text": [
      "0.02410000000000005\n"
     ]
    }
   ],
   "source": [
    "P = 0.00135+0.022750000000000048\n",
    "print(P)"
   ]
  },
  {
   "cell_type": "markdown",
   "id": "0b1446d8",
   "metadata": {},
   "source": [
    "7. не выше 150 см или не ниже 198 см?\n",
    "P(X) 150 = 0.00135\n",
    "P(X) 198 = 0.0013499999999999623"
   ]
  },
  {
   "cell_type": "code",
   "execution_count": 50,
   "id": "f275847e",
   "metadata": {},
   "outputs": [
    {
     "name": "stdout",
     "output_type": "stream",
     "text": [
      "3.0\n"
     ]
    }
   ],
   "source": [
    "Z = (198 - 174)/8\n",
    "print(Z)"
   ]
  },
  {
   "cell_type": "code",
   "execution_count": 51,
   "id": "638df9e3",
   "metadata": {},
   "outputs": [
    {
     "name": "stdout",
     "output_type": "stream",
     "text": [
      "0.0013499999999999623\n"
     ]
    }
   ],
   "source": [
    "P = (1-0.99865)\n",
    "print(P)"
   ]
  },
  {
   "cell_type": "code",
   "execution_count": 52,
   "id": "ace90f67",
   "metadata": {},
   "outputs": [
    {
     "name": "stdout",
     "output_type": "stream",
     "text": [
      "0.0026999999999999624\n"
     ]
    }
   ],
   "source": [
    "P = 0.00135+0.0013499999999999623\n",
    "print(P)"
   ]
  },
  {
   "cell_type": "markdown",
   "id": "379ea961",
   "metadata": {},
   "source": [
    "8. ниже 166 см?"
   ]
  },
  {
   "cell_type": "code",
   "execution_count": 53,
   "id": "c6e5343f",
   "metadata": {},
   "outputs": [
    {
     "name": "stdout",
     "output_type": "stream",
     "text": [
      "-1.0\n"
     ]
    }
   ],
   "source": [
    "Z = (166 - 174)/8\n",
    "print(Z)"
   ]
  },
  {
   "cell_type": "code",
   "execution_count": 54,
   "id": "eb17db77",
   "metadata": {},
   "outputs": [
    {
     "name": "stdout",
     "output_type": "stream",
     "text": [
      "0.15866\n"
     ]
    }
   ],
   "source": [
    "P = (0.15866)\n",
    "print(P)"
   ]
  },
  {
   "cell_type": "markdown",
   "id": "5fb07722",
   "metadata": {},
   "source": [
    "Решим встроенными функциями пример для проверки:"
   ]
  },
  {
   "cell_type": "code",
   "execution_count": 62,
   "id": "82a5a730",
   "metadata": {},
   "outputs": [
    {
     "data": {
      "text/plain": [
       "0.8413447460685428"
      ]
     },
     "execution_count": 62,
     "metadata": {},
     "output_type": "execute_result"
    }
   ],
   "source": [
    "NormalDist().cdf((182-174)/8)"
   ]
  },
  {
   "cell_type": "code",
   "execution_count": 63,
   "id": "0ab0e21b",
   "metadata": {},
   "outputs": [
    {
     "data": {
      "text/plain": [
       "0.15865525393145719"
      ]
     },
     "execution_count": 63,
     "metadata": {},
     "output_type": "execute_result"
    }
   ],
   "source": [
    "P=1-NormalDist().cdf((182-174)/8)\n",
    "P"
   ]
  },
  {
   "cell_type": "markdown",
   "id": "2b0b6a82",
   "metadata": {},
   "source": [
    "Задача 5. На сколько сигм (средних квадратичных отклонений) отклоняется рост человека,\n",
    "равный 190 см, от математического ожидания роста в популяции, в которой M(X) = 178 см и D(X) = 25 кв.см?"
   ]
  },
  {
   "cell_type": "code",
   "execution_count": 66,
   "id": "3b015bab",
   "metadata": {},
   "outputs": [
    {
     "data": {
      "text/plain": [
       "2.4"
      ]
     },
     "execution_count": 66,
     "metadata": {},
     "output_type": "execute_result"
    }
   ],
   "source": [
    "(190-178)/np.sqrt(25)"
   ]
  }
 ],
 "metadata": {
  "kernelspec": {
   "display_name": "Python 3 (ipykernel)",
   "language": "python",
   "name": "python3"
  },
  "language_info": {
   "codemirror_mode": {
    "name": "ipython",
    "version": 3
   },
   "file_extension": ".py",
   "mimetype": "text/x-python",
   "name": "python",
   "nbconvert_exporter": "python",
   "pygments_lexer": "ipython3",
   "version": "3.11.2"
  }
 },
 "nbformat": 4,
 "nbformat_minor": 5
}
