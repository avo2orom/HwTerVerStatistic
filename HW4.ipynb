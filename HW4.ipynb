{
 "cells": [
  {
   "cell_type": "code",
   "execution_count": 4,
   "id": "29804e2f",
   "metadata": {},
   "outputs": [],
   "source": [
    "import numpy as np\n",
    "import scipy.stats as stats"
   ]
  },
  {
   "cell_type": "markdown",
   "id": "634ea8de",
   "metadata": {},
   "source": [
    "1-4 задачи решать с помощью функций, 5ю вручную\n",
    "Выберете тест и проверьте, есть ли различия между выборками:\n"
   ]
  },
  {
   "cell_type": "markdown",
   "id": "9e8c8147",
   "metadata": {},
   "source": [
    "Задача 1. Даны две независимые выборки. Не соблюдается условие нормальности\n",
    "x1 380,420, 290\n",
    "y1 140,360,200,900\n",
    "Сделайте вывод по результатам, полученным с помощью функции, имеются ли статистические различия между группами?\n"
   ]
  },
  {
   "cell_type": "code",
   "execution_count": 2,
   "id": "916e4ef7",
   "metadata": {},
   "outputs": [],
   "source": [
    "x1 = np.array([380,420, 290])\n",
    "y1 = np.array([ 140,360,200,900])"
   ]
  },
  {
   "cell_type": "code",
   "execution_count": 6,
   "id": "8bbfec36",
   "metadata": {},
   "outputs": [
    {
     "data": {
      "text/plain": [
       "MannwhitneyuResult(statistic=8.0, pvalue=0.6285714285714286)"
      ]
     },
     "execution_count": 6,
     "metadata": {},
     "output_type": "execute_result"
    }
   ],
   "source": [
    "stats.mannwhitneyu(x1,y1)"
   ]
  },
  {
   "cell_type": "markdown",
   "id": "9d696da0",
   "metadata": {},
   "source": [
    "Ответ: p.value > α ->  H0 - не отвергается с ошибкой alpha = 0.05, выборки статистически одинаковые"
   ]
  },
  {
   "cell_type": "markdown",
   "id": "96549364",
   "metadata": {},
   "source": [
    "Задача 2. Исследовалось влияние препарата на уровень давления пациентов. Сначала\n",
    "измерялось давление до приема препарата, потом через 10 минут и через 30 минут. Есть\n",
    "ли статистически значимые различия между измерениями давления? В выборках не соблюдается условие нормальности.\n",
    "1е измерение до приема препарата: 150, 160, 165, 145, 155\n",
    "2е измерение через 10 минут: 140, 155, 150, 130, 135\n",
    "3е измерение через 30 минут: 130, 130, 120, 130, 125\n"
   ]
  },
  {
   "cell_type": "code",
   "execution_count": 7,
   "id": "650a60c8",
   "metadata": {},
   "outputs": [],
   "source": [
    "pressure_before = np.array([150, 160, 165, 145, 155])\n",
    "pressure_ten_min_aftr = np.array([140, 155, 150, 130, 135])\n",
    "pressure_thirty_min_aftr = np.array([130, 130, 120, 130, 125])"
   ]
  },
  {
   "cell_type": "code",
   "execution_count": 8,
   "id": "95310cc0",
   "metadata": {},
   "outputs": [
    {
     "data": {
      "text/plain": [
       "FriedmanchisquareResult(statistic=9.578947368421062, pvalue=0.00831683351100441)"
      ]
     },
     "execution_count": 8,
     "metadata": {},
     "output_type": "execute_result"
    }
   ],
   "source": [
    "stats.friedmanchisquare(pressure_before, pressure_ten_min_aftr, pressure_thirty_min_aftr)"
   ]
  },
  {
   "cell_type": "markdown",
   "id": "2cc5dae5",
   "metadata": {},
   "source": [
    "Ответ: p.value > α ->  H0 - не отвергается с ошибкой alpha = 0.05, выборки статистически одинаковые.\n",
    "Препарат не работает."
   ]
  },
  {
   "cell_type": "markdown",
   "id": "3211c6cb",
   "metadata": {},
   "source": [
    "Задача 3. Сравните 1 и 2 е измерения, предполагая, что 3го измерения через 30 минут не было. Есть\n",
    "ли статистически значимые различия между измерениями давления?\n"
   ]
  },
  {
   "cell_type": "code",
   "execution_count": 9,
   "id": "2f0070e8",
   "metadata": {},
   "outputs": [
    {
     "data": {
      "text/plain": [
       "WilcoxonResult(statistic=0.0, pvalue=0.0625)"
      ]
     },
     "execution_count": 9,
     "metadata": {},
     "output_type": "execute_result"
    }
   ],
   "source": [
    "stats.wilcoxon(pressure_before, pressure_ten_min_aftr)"
   ]
  },
  {
   "cell_type": "markdown",
   "id": "cf7711d1",
   "metadata": {},
   "source": [
    "Ответ: p.value < α ->  H1 принимается.\n",
    "Препарат работает."
   ]
  },
  {
   "cell_type": "markdown",
   "id": "19c413aa",
   "metadata": {},
   "source": [
    "Задача 4. Даны 3 группы учеников плавания. Не соблюдается условие нормальности.\n",
    "В 1 группе время на дистанцию 50 м составляют:\n",
    "56, 60, 62, 55, 71, 67, 59, 58, 64, 67\n",
    "Вторая группа : 57, 58, 69, 48, 72, 70, 68, 71, 50, 53\n",
    "Третья группа: 57, 67, 49, 48, 47, 55, 66, 51, 54\n",
    "Есть ли статистически значимые различия между группами?\n"
   ]
  },
  {
   "cell_type": "code",
   "execution_count": 11,
   "id": "cc9e0cc9",
   "metadata": {},
   "outputs": [],
   "source": [
    "x1 = np.array([56, 60, 62, 55, 71, 67, 59, 58, 64, 67])\n",
    "x2 = np.array([57, 58, 69, 48, 72, 70, 68, 71, 50, 53])\n",
    "x3 = np.array([57, 67, 49, 48, 47, 55, 66, 51, 54])"
   ]
  },
  {
   "cell_type": "code",
   "execution_count": 12,
   "id": "04077d15",
   "metadata": {},
   "outputs": [
    {
     "data": {
      "text/plain": [
       "KruskalResult(statistic=5.465564058257224, pvalue=0.06503809985904942)"
      ]
     },
     "execution_count": 12,
     "metadata": {},
     "output_type": "execute_result"
    }
   ],
   "source": [
    "stats.kruskal(x1, x2, x3)"
   ]
  },
  {
   "cell_type": "markdown",
   "id": "919cd8aa",
   "metadata": {},
   "source": [
    "Ответ: p.value > α ->  H0 - не отвергается с ошибкой alpha = 0.05\n",
    "Различий нет, группы статистически равны"
   ]
  },
  {
   "cell_type": "markdown",
   "id": "2c8af783",
   "metadata": {},
   "source": [
    "Задача 5. Заявляется, что партия изготавливается со средним арифметическим 2,5 см. Проверить\n",
    "данную гипотезу, если известно, что размеры изделий подчинены нормальному закону\n",
    "распределения. Объем выборки 10, уровень статистической значимости 5%\n",
    "2.51, 2.35, 2.74, 2.56, 2.40, 2.36, 2.65, 2.7, 2.67, 2.34"
   ]
  },
  {
   "cell_type": "code",
   "execution_count": 13,
   "id": "38f573ab",
   "metadata": {},
   "outputs": [],
   "source": [
    "w = np.array([2.51, 2.35, 2.74, 2.56, 2.40, 2.36, 2.65, 2.7, 2.67, 2.34])"
   ]
  },
  {
   "cell_type": "code",
   "execution_count": 18,
   "id": "f2fcd69b",
   "metadata": {},
   "outputs": [
    {
     "data": {
      "text/plain": [
       "2.5279999999999996"
      ]
     },
     "execution_count": 18,
     "metadata": {},
     "output_type": "execute_result"
    }
   ],
   "source": [
    "mean = w.mean()\n",
    "mean"
   ]
  },
  {
   "cell_type": "code",
   "execution_count": 19,
   "id": "d33461d9",
   "metadata": {},
   "outputs": [
    {
     "data": {
      "text/plain": [
       "0.1572542173961923"
      ]
     },
     "execution_count": 19,
     "metadata": {},
     "output_type": "execute_result"
    }
   ],
   "source": [
    "std = w.std(ddof=1)\n",
    "std"
   ]
  },
  {
   "cell_type": "code",
   "execution_count": 17,
   "id": "bb0dd5ba",
   "metadata": {},
   "outputs": [
    {
     "data": {
      "text/plain": [
       "0.563061366180296"
      ]
     },
     "execution_count": 17,
     "metadata": {},
     "output_type": "execute_result"
    }
   ],
   "source": [
    "t_fact = (mean - 2.5) / std * np.sqrt(len(w))\n",
    "t_fact"
   ]
  },
  {
   "cell_type": "markdown",
   "id": "63a5aaf5",
   "metadata": {},
   "source": [
    "По таблице для критерия Стьюдента находим t = 1.833 (для = 0.05 и 9 степенями свободы).\n",
    "Так как t > t_fact (1.833 > 0.56), то гипотеза верна и изделия соответствуют заявленному размеру."
   ]
  },
  {
   "cell_type": "code",
   "execution_count": 20,
   "id": "edc00533",
   "metadata": {},
   "outputs": [],
   "source": [
    "n = 10\n",
    "m = 2.5"
   ]
  },
  {
   "cell_type": "code",
   "execution_count": 21,
   "id": "36c4c88c",
   "metadata": {},
   "outputs": [
    {
     "name": "stdout",
     "output_type": "stream",
     "text": [
      "t теор = 2.26\n",
      "t рассч = 0.563\n"
     ]
    }
   ],
   "source": [
    "t = stats.t.ppf(0.975, 9)\n",
    "print(f\"t теор = {t:.2f}\")\n",
    "\n",
    "t = (mean - m) * np.sqrt(n) / std\n",
    "print(f\"t рассч = {t:.3f}\")"
   ]
  },
  {
   "cell_type": "code",
   "execution_count": null,
   "id": "7c5f429e",
   "metadata": {},
   "outputs": [],
   "source": [
    "так как t теор > t рассч, считаем что H0 гипотеза верна"
   ]
  }
 ],
 "metadata": {
  "kernelspec": {
   "display_name": "Python 3 (ipykernel)",
   "language": "python",
   "name": "python3"
  },
  "language_info": {
   "codemirror_mode": {
    "name": "ipython",
    "version": 3
   },
   "file_extension": ".py",
   "mimetype": "text/x-python",
   "name": "python",
   "nbconvert_exporter": "python",
   "pygments_lexer": "ipython3",
   "version": "3.11.2"
  }
 },
 "nbformat": 4,
 "nbformat_minor": 5
}
