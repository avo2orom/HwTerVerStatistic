{
 "cells": [
  {
   "cell_type": "code",
   "execution_count": 2,
   "id": "66aa0503",
   "metadata": {},
   "outputs": [],
   "source": [
    "import warnings\n",
    "import numpy as np\n",
    "import pandas as pd\n",
    "from scipy import stats\n",
    "import math\n",
    "import statistics\n",
    "\n",
    "warnings.filterwarnings('ignore')"
   ]
  },
  {
   "cell_type": "markdown",
   "id": "2966a839",
   "metadata": {},
   "source": [
    "Задача 1. Когда используется критерий Стьюдента, а когда Z –критерий?"
   ]
  },
  {
   "cell_type": "markdown",
   "id": "23ec0085",
   "metadata": {},
   "source": [
    "Ответ: Для критерия Стьюдента не известна генеральная совокупность, а для z критерия известна, \n",
    "    Z имеет нормальное распределение, а t - распределение Стьюдента"
   ]
  },
  {
   "cell_type": "markdown",
   "id": "b3fc3f65",
   "metadata": {},
   "source": [
    "Задача 2. \n",
    "Проведите тест гипотезы. Утверждается, что шарики для подшипников, изготовленные\n",
    "автоматическим станком, имеют средний диаметр 17 мм.\n",
    "Используя односторонний критерий с α=0,05, проверить эту гипотезу, если в выборке из\n",
    "n=100 шариков средний диаметр оказался равным 17.5 мм, а дисперсия известна и равна 4 кв. мм."
   ]
  },
  {
   "cell_type": "markdown",
   "id": "d22ccddb",
   "metadata": {},
   "source": [
    "Решение:\n",
    "Н0 = 17 см = 17 см, Н1 = 17 см < 17.5 см\n",
    "Нам не известна сигма генеральной совокупности, поэтому используем t распределение.\n",
    "tH = 17 - 17.5 / 4/sqrt(100)=0.5/0.4= 1.25\n",
    "\n",
    "Дальше не понятно как решать, в таблице ни одного значения не подбирается и все :с"
   ]
  },
  {
   "cell_type": "markdown",
   "id": "d05860e5",
   "metadata": {},
   "source": [
    "Задача 3. \n",
    "Проведите тест гипотезы. Продавец утверждает, что средний вес пачки печенья\n",
    "составляет 200 г.\n",
    "Из партии извлечена выборка из 10 пачек. \n",
    "Вес каждой пачки составляет:\n",
    "202, 203, 199, 197, 195, 201, 200, 204, 194, 190.\n",
    "Известно, что их веса распределены нормально.\n",
    "Верно ли утверждение продавца, если учитывать, что доверительная вероятность равна\n",
    "99%? (Провести двусторонний тест.)"
   ]
  },
  {
   "cell_type": "markdown",
   "id": "caf995e0",
   "metadata": {},
   "source": [
    "H0 = 200 = 200\n",
    "H1 = 200 != 200\n",
    "weight = 202, 203, 199, 197, 195, 201, 200, 204, 194, 190\n",
    "альфа = 0.01\n",
    "n = 10\n",
    "Дисперсию мы не знаем, будем пользоваться t критерием"
   ]
  },
  {
   "cell_type": "code",
   "execution_count": null,
   "id": "39891890",
   "metadata": {},
   "outputs": [],
   "source": [
    "n = 10\n",
    "alpha = 0.01"
   ]
  },
  {
   "cell_type": "code",
   "execution_count": 3,
   "id": "273e6b62",
   "metadata": {},
   "outputs": [],
   "source": [
    "samples = np.array([202, 203, 199, 197, 195, 201, 200, 204, 194, 190])"
   ]
  },
  {
   "cell_type": "code",
   "execution_count": 5,
   "id": "4736f8d6",
   "metadata": {},
   "outputs": [
    {
     "data": {
      "text/plain": [
       "198.5"
      ]
     },
     "execution_count": 5,
     "metadata": {},
     "output_type": "execute_result"
    }
   ],
   "source": [
    "m = samples.mean()\n",
    "m"
   ]
  },
  {
   "cell_type": "markdown",
   "id": "b0ac343e",
   "metadata": {},
   "source": [
    "Далее нам нужно найти формулу распределения Стьюдента, где в знаменателе есть S и вообще не понятно как это вычислить, \n",
    "а если гуглишь в интернете, то становится еще больше ничего не понятно. Помогите, пожалуйста."
   ]
  },
  {
   "cell_type": "markdown",
   "id": "822fdf53",
   "metadata": {},
   "source": [
    "Есть ли статистически значимые различия в росте дочерей?\n",
    "Рост матерей 172, 177, 158, 170, 178,175, 164, 160, 169, 165\n",
    "Рост взрослых дочерей: 173, 175, 162, 174, 175, 168, 155, 170, 160, 163"
   ]
  },
  {
   "cell_type": "code",
   "execution_count": 21,
   "id": "b6b073bc",
   "metadata": {},
   "outputs": [],
   "source": [
    "x = np.array([172, 177, 158, 170, 178,175, 164, 160, 169, 165])\n",
    "y = np.array([173, 175, 162, 174, 175, 168, 155, 170, 160, 163])"
   ]
  },
  {
   "cell_type": "code",
   "execution_count": 22,
   "id": "da1766fc",
   "metadata": {},
   "outputs": [
    {
     "name": "stdout",
     "output_type": "stream",
     "text": [
      "168.8 167.5 48.17777777777778 50.5 10 10\n"
     ]
    }
   ],
   "source": [
    "x_mean = np.mean(x)\n",
    "y_mean = np.mean(y)\n",
    "x_v = np.var(x, ddof=1)\n",
    "y_v = np.var(y, ddof=1)\n",
    "n_x = len(x)\n",
    "n_y = len(y)\n",
    "print(x_mean, y_mean, x_v, y_v, n_x, n_y)"
   ]
  },
  {
   "cell_type": "code",
   "execution_count": 23,
   "id": "52e2449d",
   "metadata": {},
   "outputs": [
    {
     "data": {
      "text/plain": [
       "0.41384114976800535"
      ]
     },
     "execution_count": 23,
     "metadata": {},
     "output_type": "execute_result"
    }
   ],
   "source": [
    "t_emp = (x_mean - y_mean) / np.sqrt(x_v / n_x + y_v / n_y)\n",
    "t_emp"
   ]
  },
  {
   "cell_type": "code",
   "execution_count": 24,
   "id": "32fcf61c",
   "metadata": {},
   "outputs": [
    {
     "data": {
      "text/plain": [
       "(-2.10092204024096, 2.10092204024096)"
      ]
     },
     "execution_count": 24,
     "metadata": {},
     "output_type": "execute_result"
    }
   ],
   "source": [
    "alpha = 0.05\n",
    "n = n_x\n",
    "t1 = stats.t.ppf(alpha / 2, df=2*(n-1))\n",
    "t2 = stats.t.ppf(1 - alpha / 2, df=2*(n-1))\n",
    "t1, t2"
   ]
  },
  {
   "cell_type": "code",
   "execution_count": 25,
   "id": "48fbe210",
   "metadata": {},
   "outputs": [
    {
     "data": {
      "text/plain": [
       "Ttest_indResult(statistic=0.4138411497680053, pvalue=0.68387966499013)"
      ]
     },
     "execution_count": 25,
     "metadata": {},
     "output_type": "execute_result"
    }
   ],
   "source": [
    "stats.ttest_ind(x, y)"
   ]
  },
  {
   "cell_type": "markdown",
   "id": "8b3295ba",
   "metadata": {},
   "source": [
    "Альфа меньшt p-value -> нулевая гипотеза отвергается, разница в росте есть"
   ]
  }
 ],
 "metadata": {
  "kernelspec": {
   "display_name": "Python 3 (ipykernel)",
   "language": "python",
   "name": "python3"
  },
  "language_info": {
   "codemirror_mode": {
    "name": "ipython",
    "version": 3
   },
   "file_extension": ".py",
   "mimetype": "text/x-python",
   "name": "python",
   "nbconvert_exporter": "python",
   "pygments_lexer": "ipython3",
   "version": "3.11.2"
  }
 },
 "nbformat": 4,
 "nbformat_minor": 5
}
