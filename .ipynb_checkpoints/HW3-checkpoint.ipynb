{
 "cells": [
  {
   "cell_type": "code",
   "execution_count": 1,
   "id": "98c41f57",
   "metadata": {},
   "outputs": [],
   "source": [
    "import numpy as np\n",
    "import scipy.stats as stats"
   ]
  },
  {
   "cell_type": "markdown",
   "id": "e475cf1b",
   "metadata": {},
   "source": [
    "Задача 1. Известно, что генеральная совокупность распределена нормально\n",
    "со средним квадратическим отклонением, равным 16.\n",
    "Найти доверительный интервал для оценки математического ожидания с надежностью\n",
    "0.95,если выборочная средняя M = 80, а объем выборки n = 256."
   ]
  },
  {
   "cell_type": "markdown",
   "id": "6c9a9c28",
   "metadata": {},
   "source": [
    "Х ̅±𝑡(𝛼/2)∗𝜎/√𝑛"
   ]
  },
  {
   "cell_type": "code",
   "execution_count": 5,
   "id": "28e7688d",
   "metadata": {},
   "outputs": [
    {
     "data": {
      "text/plain": [
       "81.96"
      ]
     },
     "execution_count": 5,
     "metadata": {},
     "output_type": "execute_result"
    }
   ],
   "source": [
    "80 + (1.96*(16/(np.sqrt(256))))"
   ]
  },
  {
   "cell_type": "code",
   "execution_count": 6,
   "id": "850e4c7d",
   "metadata": {},
   "outputs": [
    {
     "data": {
      "text/plain": [
       "78.04"
      ]
     },
     "execution_count": 6,
     "metadata": {},
     "output_type": "execute_result"
    }
   ],
   "source": [
    "80 - (1.96*(16/(np.sqrt(256))))"
   ]
  },
  {
   "cell_type": "markdown",
   "id": "79c45d28",
   "metadata": {},
   "source": [
    "Ответ [78.04; 81.96]"
   ]
  },
  {
   "cell_type": "markdown",
   "id": "2cb107a2",
   "metadata": {},
   "source": []
  },
  {
   "cell_type": "markdown",
   "id": "64951601",
   "metadata": {},
   "source": [
    "Задача 2. В результате 10 независимых измерений некоторой величины X, выполненных с\n",
    "одинаковой точностью, получены опытные данные:\n",
    "6.9, 6.1, 6.2, 6.8, 7.5, 6.3, 6.4, 6.9, 6.7, 6.1\n",
    "Предполагая, что результаты измерений подчинены нормальному закону распределения\n",
    "вероятностей, оценить истинное значение величины X при помощи доверительного интервала,\n",
    "покрывающего это значение с доверительной вероятностью 0,95."
   ]
  },
  {
   "cell_type": "code",
   "execution_count": 8,
   "id": "a72c6ad9",
   "metadata": {},
   "outputs": [],
   "source": [
    "a = np.array([6.9, 6.1, 6.2, 6.8, 7.5, 6.3, 6.4, 6.9, 6.7, 6.1])"
   ]
  },
  {
   "cell_type": "code",
   "execution_count": 9,
   "id": "23f5d378",
   "metadata": {},
   "outputs": [
    {
     "data": {
      "text/plain": [
       "6.590000000000001"
      ]
     },
     "execution_count": 9,
     "metadata": {},
     "output_type": "execute_result"
    }
   ],
   "source": [
    "x_1 = np.mean(a)\n",
    "x_1"
   ]
  },
  {
   "cell_type": "code",
   "execution_count": 10,
   "id": "d47bd202",
   "metadata": {},
   "outputs": [
    {
     "data": {
      "text/plain": [
       "0.2032222222222223"
      ]
     },
     "execution_count": 10,
     "metadata": {},
     "output_type": "execute_result"
    }
   ],
   "source": [
    "D1 = np.var(a, ddof=1)\n",
    "D1"
   ]
  },
  {
   "cell_type": "code",
   "execution_count": 11,
   "id": "22d9cea0",
   "metadata": {},
   "outputs": [
    {
     "data": {
      "text/plain": [
       "2.2621571627409915"
      ]
     },
     "execution_count": 11,
     "metadata": {},
     "output_type": "execute_result"
    }
   ],
   "source": [
    "t1 = stats.t.ppf(0.975, 9)\n",
    "t1"
   ]
  },
  {
   "cell_type": "code",
   "execution_count": 12,
   "id": "200ae949",
   "metadata": {},
   "outputs": [
    {
     "data": {
      "text/plain": [
       "6.267515851415713"
      ]
     },
     "execution_count": 12,
     "metadata": {},
     "output_type": "execute_result"
    }
   ],
   "source": [
    "x_1 - t1 * np.sqrt(D1/10)"
   ]
  },
  {
   "cell_type": "code",
   "execution_count": 13,
   "id": "7bda8eac",
   "metadata": {},
   "outputs": [
    {
     "data": {
      "text/plain": [
       "6.912484148584288"
      ]
     },
     "execution_count": 13,
     "metadata": {},
     "output_type": "execute_result"
    }
   ],
   "source": [
    "x_1 + t1 * np.sqrt(D1/10)"
   ]
  },
  {
   "cell_type": "markdown",
   "id": "32fbb86f",
   "metadata": {},
   "source": [
    "Ответ: [6.267, 6.912]"
   ]
  },
  {
   "cell_type": "markdown",
   "id": "f0e53d82",
   "metadata": {},
   "source": []
  },
  {
   "cell_type": "markdown",
   "id": "bff93c18",
   "metadata": {},
   "source": [
    "Задача 3. Рост дочерей 175, 167, 154, 174, 178, 148, 160, 167, 169, 170\n",
    "Рост матерей 178, 165, 165, 173, 168, 155, 160, 164, 178, 175\n",
    "\n",
    "Используя эти данные построить 95% доверительный интервал для разности среднего\n",
    "роста родителей и детей."
   ]
  },
  {
   "cell_type": "code",
   "execution_count": 14,
   "id": "a83dba23",
   "metadata": {},
   "outputs": [],
   "source": [
    "a = np.array([175, 167, 154, 174, 178, 148, 160, 167, 169, 170])\n",
    "b = np.array([178, 165, 165, 173, 168, 155, 160, 164, 178, 175])"
   ]
  },
  {
   "cell_type": "code",
   "execution_count": 15,
   "id": "ddaea62f",
   "metadata": {},
   "outputs": [
    {
     "data": {
      "text/plain": [
       "166.2"
      ]
     },
     "execution_count": 15,
     "metadata": {},
     "output_type": "execute_result"
    }
   ],
   "source": [
    "x_1 = np.mean(a)\n",
    "x_1"
   ]
  },
  {
   "cell_type": "code",
   "execution_count": 16,
   "id": "2c79b7c1",
   "metadata": {},
   "outputs": [
    {
     "data": {
      "text/plain": [
       "168.1"
      ]
     },
     "execution_count": 16,
     "metadata": {},
     "output_type": "execute_result"
    }
   ],
   "source": [
    "x_2 = np.mean(b)\n",
    "x_2"
   ]
  },
  {
   "cell_type": "code",
   "execution_count": 17,
   "id": "167ed300",
   "metadata": {},
   "outputs": [
    {
     "data": {
      "text/plain": [
       "-1.9000000000000057"
      ]
     },
     "execution_count": 17,
     "metadata": {},
     "output_type": "execute_result"
    }
   ],
   "source": [
    "delta = x_1 - x_2\n",
    "delta"
   ]
  },
  {
   "cell_type": "code",
   "execution_count": 18,
   "id": "a619578b",
   "metadata": {},
   "outputs": [
    {
     "data": {
      "text/plain": [
       "91.06666666666666"
      ]
     },
     "execution_count": 18,
     "metadata": {},
     "output_type": "execute_result"
    }
   ],
   "source": [
    "D1 = np.var(a, ddof=1)\n",
    "D1"
   ]
  },
  {
   "cell_type": "code",
   "execution_count": 19,
   "id": "987c8596",
   "metadata": {},
   "outputs": [
    {
     "data": {
      "text/plain": [
       "60.10000000000001"
      ]
     },
     "execution_count": 19,
     "metadata": {},
     "output_type": "execute_result"
    }
   ],
   "source": [
    "D2 = np.var(b, ddof=1)\n",
    "D2"
   ]
  },
  {
   "cell_type": "code",
   "execution_count": 20,
   "id": "d8d6ca88",
   "metadata": {},
   "outputs": [
    {
     "data": {
      "text/plain": [
       "75.58333333333334"
      ]
     },
     "execution_count": 20,
     "metadata": {},
     "output_type": "execute_result"
    }
   ],
   "source": [
    "D = (D1 + D2)/2\n",
    "D"
   ]
  },
  {
   "cell_type": "code",
   "execution_count": 21,
   "id": "1f310588",
   "metadata": {},
   "outputs": [
    {
     "data": {
      "text/plain": [
       "3.8880157750022915"
      ]
     },
     "execution_count": 21,
     "metadata": {},
     "output_type": "execute_result"
    }
   ],
   "source": [
    "SE = np.sqrt (D/10+D/10)\n",
    "SE"
   ]
  },
  {
   "cell_type": "code",
   "execution_count": 22,
   "id": "8a500b2a",
   "metadata": {},
   "outputs": [
    {
     "data": {
      "text/plain": [
       "2.10092204024096"
      ]
     },
     "execution_count": 22,
     "metadata": {},
     "output_type": "execute_result"
    }
   ],
   "source": [
    "t = stats.t.ppf(0.975,18)\n",
    "t"
   ]
  },
  {
   "cell_type": "code",
   "execution_count": 23,
   "id": "0ed57d0d",
   "metadata": {},
   "outputs": [
    {
     "data": {
      "text/plain": [
       "-10.068418034506857"
      ]
     },
     "execution_count": 23,
     "metadata": {},
     "output_type": "execute_result"
    }
   ],
   "source": [
    "L = delta - t*SE\n",
    "L"
   ]
  },
  {
   "cell_type": "code",
   "execution_count": 24,
   "id": "eb868001",
   "metadata": {},
   "outputs": [
    {
     "data": {
      "text/plain": [
       "6.268418034506846"
      ]
     },
     "execution_count": 24,
     "metadata": {},
     "output_type": "execute_result"
    }
   ],
   "source": [
    "L = delta + t*SE\n",
    "L"
   ]
  },
  {
   "cell_type": "code",
   "execution_count": null,
   "id": "c3926b56",
   "metadata": {},
   "outputs": [],
   "source": [
    "Ответ: [-10.06, 6.26]"
   ]
  }
 ],
 "metadata": {
  "kernelspec": {
   "display_name": "Python 3 (ipykernel)",
   "language": "python",
   "name": "python3"
  },
  "language_info": {
   "codemirror_mode": {
    "name": "ipython",
    "version": 3
   },
   "file_extension": ".py",
   "mimetype": "text/x-python",
   "name": "python",
   "nbconvert_exporter": "python",
   "pygments_lexer": "ipython3",
   "version": "3.11.2"
  }
 },
 "nbformat": 4,
 "nbformat_minor": 5
}
