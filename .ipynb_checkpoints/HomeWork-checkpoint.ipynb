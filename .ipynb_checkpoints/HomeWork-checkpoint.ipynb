{
 "cells": [
  {
   "cell_type": "markdown",
   "id": "cfc68e76",
   "metadata": {},
   "source": [
    "Задача 1. Случайная непрерывная величина A имеет равномерное распределение на\n",
    "промежутке (200, 800].\n",
    "Найдите ее среднее значение и дисперсию."
   ]
  },
  {
   "cell_type": "code",
   "execution_count": 10,
   "id": "99028d11",
   "metadata": {},
   "outputs": [],
   "source": [
    "import warnings\n",
    "import numpy as np\n",
    "import pandas as pd\n",
    "from scipy import stats\n",
    "import math\n",
    "import statistics\n",
    "\n",
    "warnings.filterwarnings('ignore')"
   ]
  },
  {
   "cell_type": "code",
   "execution_count": 16,
   "id": "ff2087e6",
   "metadata": {},
   "outputs": [
    {
     "name": "stdout",
     "output_type": "stream",
     "text": [
      "\"Среднее значение = \" 500.0\n",
      "\"Дисперсия = \" 50.166666666666664\n"
     ]
    }
   ],
   "source": [
    "a = 200;\n",
    "b = 800\n",
    "M = (a + b)/2\n",
    "print(f'\"Среднее значение = \" {M}')\n",
    "D = ((b-a)^2)/12\n",
    "print(f'\"Дисперсия = \" {D}')"
   ]
  },
  {
   "cell_type": "markdown",
   "id": "afec9b36",
   "metadata": {},
   "source": [
    "Задача 2. О случайной непрерывной равномерно распределенной величине B известно, что ее\n",
    "дисперсия равна 0.2.\n",
    "Можно ли найти правую границу величины B и ее среднее значение зная, что левая\n",
    "граница равна 0.5?\n",
    "Если да, найдите ее."
   ]
  },
  {
   "cell_type": "markdown",
   "id": "17d2f645",
   "metadata": {},
   "source": [
    "D = 0.2\n",
    "s = sqrt(D)\n",
    "D = (a + b)^2 / 12 = 0,2\n",
    "a = 0.5"
   ]
  },
  {
   "cell_type": "code",
   "execution_count": 17,
   "id": "e90d1236",
   "metadata": {},
   "outputs": [
    {
     "name": "stdout",
     "output_type": "stream",
     "text": [
      "Правая граница равна 2.049193338482967\n"
     ]
    }
   ],
   "source": [
    "a = 0.5\n",
    "c = np.sqrt(2.4)\n",
    "b = c + a\n",
    "print(f'Правая граница равна {b}')"
   ]
  },
  {
   "cell_type": "markdown",
   "id": "9c570eb5",
   "metadata": {},
   "source": [
    "Среднее значение M(X) = a + b /2"
   ]
  },
  {
   "cell_type": "code",
   "execution_count": 19,
   "id": "efa8a247",
   "metadata": {},
   "outputs": [
    {
     "name": "stdout",
     "output_type": "stream",
     "text": [
      "1.2745966692414834\n"
     ]
    }
   ],
   "source": [
    "M = (a + b) /2\n",
    "print(M)"
   ]
  },
  {
   "cell_type": "markdown",
   "id": "3c9f822a",
   "metadata": {},
   "source": [
    "Задача 3. Непрерывная случайная величина X распределена нормально и задана плотностью\n",
    "распределения\n",
    "f(x) = (1 / (4 * sqrt(2pi))) * exp((-(x+2)**2) / 32)\n",
    "Найдите:\n",
    "а). M(X)\n",
    "б). D(X)\n",
    "в). std(X) (среднее квадратичное отклонение)"
   ]
  },
  {
   "cell_type": "markdown",
   "id": "c864e548",
   "metadata": {},
   "source": [
    "M(X) = -2\n",
    "D(X) = s^2 = 16\n",
    "s = 4\n"
   ]
  },
  {
   "cell_type": "markdown",
   "id": "ddc07ed4",
   "metadata": {},
   "source": [
    "Рост взрослого населения города X имеет нормальное распределение, причем, средний рост равен 174 см, а среднее квадратическое отклонение равно 8 см. посчитайте, какова вероятность того, что случайным образом выбранный взрослый человек имеет рост:\n",
    "1. больше 182 см?\n",
    "2. больше 190 см?\n",
    "3. от 166 см до 190 см?\n",
    "4. от 166 см до 182 см?\n",
    "5. от 158 см до 190 см?\n",
    "6. не выше 150 см или не ниже 190 см?\n",
    "7. не выше 150 см или не ниже 198 см?\n",
    "8. ниже 166 см?\n",
    "\n",
    "Задачу можно решить двумя способами: без использования сторонних библиотек (numpy, scipy, pandas и пр.), а затем проверить себя с помощью встроенных функций.\n",
    "\n",
    "Среднее арифметическое = 174\n",
    "сигма = 8"
   ]
  },
  {
   "cell_type": "markdown",
   "id": "d2b83330",
   "metadata": {},
   "source": [
    "1. больше 182 см?\n",
    "P(X) 182 = 1-P(x<182)"
   ]
  },
  {
   "cell_type": "code",
   "execution_count": 21,
   "id": "1c5c797d",
   "metadata": {},
   "outputs": [
    {
     "name": "stdout",
     "output_type": "stream",
     "text": [
      "1.0\n"
     ]
    }
   ],
   "source": [
    "Z = (182 - 174)/8\n",
    "print(Z)"
   ]
  },
  {
   "cell_type": "code",
   "execution_count": 22,
   "id": "dd9906b7",
   "metadata": {},
   "outputs": [
    {
     "name": "stdout",
     "output_type": "stream",
     "text": [
      "0.15866000000000002\n"
     ]
    }
   ],
   "source": [
    "P = (1-0.84134)\n",
    "print(P)"
   ]
  },
  {
   "cell_type": "markdown",
   "id": "39f54412",
   "metadata": {},
   "source": [
    "Ответ: вероятность = 0,16 или 16%"
   ]
  },
  {
   "cell_type": "markdown",
   "id": "87d5a615",
   "metadata": {},
   "source": [
    "2. больше 190 см?\n",
    "P(X) 190 = 1-P(x<190)"
   ]
  },
  {
   "cell_type": "code",
   "execution_count": 23,
   "id": "a7192637",
   "metadata": {},
   "outputs": [
    {
     "name": "stdout",
     "output_type": "stream",
     "text": [
      "2.0\n"
     ]
    }
   ],
   "source": [
    "Z = (190 - 174)/8\n",
    "print(Z)"
   ]
  },
  {
   "cell_type": "code",
   "execution_count": 24,
   "id": "d0e82f5a",
   "metadata": {},
   "outputs": [
    {
     "name": "stdout",
     "output_type": "stream",
     "text": [
      "0.022750000000000048\n"
     ]
    }
   ],
   "source": [
    "P = (1-0.97725 )\n",
    "print(P)"
   ]
  },
  {
   "cell_type": "markdown",
   "id": "4364ff9b",
   "metadata": {},
   "source": [
    "Ответ: вероятность = 0,23 или 23%"
   ]
  },
  {
   "cell_type": "markdown",
   "id": "9233f6ad",
   "metadata": {},
   "source": [
    "3. от 166 см до 190 см?\n",
    "P(X) 166 = P(x<166)\n",
    "Р(X) 190 = 0,23 (рассчитали в примере 2)"
   ]
  },
  {
   "cell_type": "code",
   "execution_count": 28,
   "id": "9ea881d4",
   "metadata": {},
   "outputs": [
    {
     "name": "stdout",
     "output_type": "stream",
     "text": [
      "-1.0\n"
     ]
    }
   ],
   "source": [
    "Z = (166 - 174)/8\n",
    "print(Z)"
   ]
  },
  {
   "cell_type": "code",
   "execution_count": 29,
   "id": "7dffa13e",
   "metadata": {},
   "outputs": [
    {
     "name": "stdout",
     "output_type": "stream",
     "text": [
      "0.15866\n"
     ]
    }
   ],
   "source": [
    "P = (0.15866)\n",
    "print(P)"
   ]
  },
  {
   "cell_type": "markdown",
   "id": "eb4a59cf",
   "metadata": {},
   "source": [
    "P (общая) = 0.16-0.23"
   ]
  },
  {
   "cell_type": "code",
   "execution_count": 37,
   "id": "6538e8f8",
   "metadata": {},
   "outputs": [
    {
     "name": "stdout",
     "output_type": "stream",
     "text": [
      "0.07\n"
     ]
    }
   ],
   "source": [
    "P = 0.23-0.16\n",
    "print(P)"
   ]
  },
  {
   "cell_type": "markdown",
   "id": "bff0239c",
   "metadata": {},
   "source": [
    "4. от 166 см до 182 см?\n",
    "P(X) 166 = 0.15866\n",
    "Р(X) 182 = 0.15866000000000002\n",
    "P (общая) = 0.16-0.15866000000000002"
   ]
  },
  {
   "cell_type": "code",
   "execution_count": 36,
   "id": "59912a10",
   "metadata": {},
   "outputs": [
    {
     "name": "stdout",
     "output_type": "stream",
     "text": [
      "2.7755575615628914e-17\n"
     ]
    }
   ],
   "source": [
    "P = 0.15866000000000002-0.15866\n",
    "print(P)"
   ]
  },
  {
   "cell_type": "markdown",
   "id": "bd41265d",
   "metadata": {},
   "source": [
    "5. от 158 см до 190 см?\n",
    "P(X) 158 = 0.02275\n",
    "P(X) 190 = 0.022750000000000048"
   ]
  },
  {
   "cell_type": "code",
   "execution_count": 44,
   "id": "556396b2",
   "metadata": {},
   "outputs": [
    {
     "name": "stdout",
     "output_type": "stream",
     "text": [
      "-2.0\n"
     ]
    }
   ],
   "source": [
    "Z = (158 - 174)/8\n",
    "print(Z)"
   ]
  },
  {
   "cell_type": "code",
   "execution_count": 42,
   "id": "1ced6523",
   "metadata": {},
   "outputs": [
    {
     "name": "stdout",
     "output_type": "stream",
     "text": [
      "0.02275\n"
     ]
    }
   ],
   "source": [
    "P = (0.02275)\n",
    "print(P)"
   ]
  },
  {
   "cell_type": "code",
   "execution_count": 45,
   "id": "a6e0a832",
   "metadata": {},
   "outputs": [
    {
     "name": "stdout",
     "output_type": "stream",
     "text": [
      "4.85722573273506e-17\n"
     ]
    }
   ],
   "source": [
    "P = 0.022750000000000048-0.02275\n",
    "print(P)"
   ]
  },
  {
   "cell_type": "markdown",
   "id": "1fc6b1e4",
   "metadata": {},
   "source": [
    "6. не выше 150 см или не ниже 190 см?\n",
    "P(X) 150 = 0.00135\n",
    "P(X) 190 = 0.022750000000000048"
   ]
  },
  {
   "cell_type": "code",
   "execution_count": 46,
   "id": "369484b2",
   "metadata": {},
   "outputs": [
    {
     "name": "stdout",
     "output_type": "stream",
     "text": [
      "-3.0\n"
     ]
    }
   ],
   "source": [
    "Z = (150 - 174)/8\n",
    "print(Z)"
   ]
  },
  {
   "cell_type": "code",
   "execution_count": 47,
   "id": "888e5e92",
   "metadata": {},
   "outputs": [
    {
     "name": "stdout",
     "output_type": "stream",
     "text": [
      "0.00135\n"
     ]
    }
   ],
   "source": [
    "P = (0.00135 )\n",
    "print(P)"
   ]
  },
  {
   "cell_type": "code",
   "execution_count": 49,
   "id": "e9d828d4",
   "metadata": {},
   "outputs": [
    {
     "name": "stdout",
     "output_type": "stream",
     "text": [
      "0.02410000000000005\n"
     ]
    }
   ],
   "source": [
    "P = 0.00135+0.022750000000000048\n",
    "print(P)"
   ]
  },
  {
   "cell_type": "markdown",
   "id": "54a24052",
   "metadata": {},
   "source": [
    "7. не выше 150 см или не ниже 198 см?\n",
    "P(X) 150 = 0.00135\n",
    "P(X) 198 = 0.0013499999999999623"
   ]
  },
  {
   "cell_type": "code",
   "execution_count": 50,
   "id": "7ecd050f",
   "metadata": {},
   "outputs": [
    {
     "name": "stdout",
     "output_type": "stream",
     "text": [
      "3.0\n"
     ]
    }
   ],
   "source": [
    "Z = (198 - 174)/8\n",
    "print(Z)"
   ]
  },
  {
   "cell_type": "code",
   "execution_count": 51,
   "id": "23110b51",
   "metadata": {},
   "outputs": [
    {
     "name": "stdout",
     "output_type": "stream",
     "text": [
      "0.0013499999999999623\n"
     ]
    }
   ],
   "source": [
    "P = (1-0.99865)\n",
    "print(P)"
   ]
  },
  {
   "cell_type": "code",
   "execution_count": 52,
   "id": "b8456e88",
   "metadata": {},
   "outputs": [
    {
     "name": "stdout",
     "output_type": "stream",
     "text": [
      "0.0026999999999999624\n"
     ]
    }
   ],
   "source": [
    "P = 0.00135+0.0013499999999999623\n",
    "print(P)"
   ]
  },
  {
   "cell_type": "markdown",
   "id": "5848dfb1",
   "metadata": {},
   "source": [
    "8. ниже 166 см?"
   ]
  },
  {
   "cell_type": "code",
   "execution_count": 53,
   "id": "eb78cf4f",
   "metadata": {},
   "outputs": [
    {
     "name": "stdout",
     "output_type": "stream",
     "text": [
      "-1.0\n"
     ]
    }
   ],
   "source": [
    "Z = (166 - 174)/8\n",
    "print(Z)"
   ]
  },
  {
   "cell_type": "code",
   "execution_count": 54,
   "id": "5c3a9e2e",
   "metadata": {},
   "outputs": [
    {
     "name": "stdout",
     "output_type": "stream",
     "text": [
      "0.15866\n"
     ]
    }
   ],
   "source": [
    "P = (0.15866)\n",
    "print(P)"
   ]
  },
  {
   "cell_type": "markdown",
   "id": "46635e93",
   "metadata": {},
   "source": [
    "Решим встроенными функциями пример для проверки:"
   ]
  },
  {
   "cell_type": "code",
   "execution_count": 62,
   "id": "aba49370",
   "metadata": {},
   "outputs": [
    {
     "data": {
      "text/plain": [
       "0.8413447460685428"
      ]
     },
     "execution_count": 62,
     "metadata": {},
     "output_type": "execute_result"
    }
   ],
   "source": [
    "NormalDist().cdf((182-174)/8)"
   ]
  },
  {
   "cell_type": "code",
   "execution_count": 63,
   "id": "7006b815",
   "metadata": {},
   "outputs": [
    {
     "data": {
      "text/plain": [
       "0.15865525393145719"
      ]
     },
     "execution_count": 63,
     "metadata": {},
     "output_type": "execute_result"
    }
   ],
   "source": [
    "P=1-NormalDist().cdf((182-174)/8)\n",
    "P"
   ]
  },
  {
   "cell_type": "markdown",
   "id": "f5a84ff0",
   "metadata": {},
   "source": [
    "Задача 5. На сколько сигм (средних квадратичных отклонений) отклоняется рост человека,\n",
    "равный 190 см, от математического ожидания роста в популяции, в которой M(X) = 178 см и D(X) = 25 кв.см?"
   ]
  },
  {
   "cell_type": "code",
   "execution_count": 66,
   "id": "2a3f5a7d",
   "metadata": {},
   "outputs": [
    {
     "data": {
      "text/plain": [
       "2.4"
      ]
     },
     "execution_count": 66,
     "metadata": {},
     "output_type": "execute_result"
    }
   ],
   "source": [
    "(190-178)/np.sqrt(25)"
   ]
  }
 ],
 "metadata": {
  "kernelspec": {
   "display_name": "Python 3 (ipykernel)",
   "language": "python",
   "name": "python3"
  },
  "language_info": {
   "codemirror_mode": {
    "name": "ipython",
    "version": 3
   },
   "file_extension": ".py",
   "mimetype": "text/x-python",
   "name": "python",
   "nbconvert_exporter": "python",
   "pygments_lexer": "ipython3",
   "version": "3.11.2"
  }
 },
 "nbformat": 4,
 "nbformat_minor": 5
}
